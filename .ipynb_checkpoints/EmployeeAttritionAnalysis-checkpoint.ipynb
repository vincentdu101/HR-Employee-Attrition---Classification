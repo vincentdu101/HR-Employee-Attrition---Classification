{
 "cells": [
  {
   "cell_type": "markdown",
   "metadata": {},
   "source": [
    "Importing Libraries\n",
    "\n",
    "Multiple packages and libraries that will be utilized to help process the data, create the model, and display the results in several visualizations.Main modeling library is scikit-learn which is the sklearn package that will be utilized to preprocess the data and to create/train/test the model. "
   ]
  },
  {
   "cell_type": "code",
   "execution_count": 1,
   "metadata": {},
   "outputs": [
    {
     "data": {
      "text/html": [
       "        <script type=\"text/javascript\">\n",
       "        window.PlotlyConfig = {MathJaxConfig: 'local'};\n",
       "        if (window.MathJax) {MathJax.Hub.Config({SVG: {font: \"STIX-Web\"}});}\n",
       "        if (typeof require !== 'undefined') {\n",
       "        require.undef(\"plotly\");\n",
       "        requirejs.config({\n",
       "            paths: {\n",
       "                'plotly': ['https://cdn.plot.ly/plotly-latest.min']\n",
       "            }\n",
       "        });\n",
       "        require(['plotly'], function(Plotly) {\n",
       "            window._Plotly = Plotly;\n",
       "        });\n",
       "        }\n",
       "        </script>\n",
       "        "
      ]
     },
     "metadata": {},
     "output_type": "display_data"
    },
    {
     "name": "stderr",
     "output_type": "stream",
     "text": [
      "/anaconda/lib/python3.6/site-packages/sklearn/externals/six.py:31: DeprecationWarning:\n",
      "\n",
      "The module is deprecated in version 0.21 and will be removed in version 0.23 since we've dropped support for Python 2.7. Please rely on the official version of six (https://pypi.org/project/six/).\n",
      "\n"
     ]
    }
   ],
   "source": [
    "# HR Employee Attrition Predictor\n",
    "import numpy as np\n",
    "import matplotlib.pyplot as plt\n",
    "import pandas as pd\n",
    "import graphviz\n",
    "import seaborn as sns\n",
    "import sklearn.metrics as metrics\n",
    "import plotly.graph_objs as go\n",
    "\n",
    "import plotly.offline as py\n",
    "py.init_notebook_mode(connected=True)\n",
    "import plotly.graph_objs as go\n",
    "import plotly.tools as tls\n",
    " \n",
    "from sklearn.ensemble import RandomForestClassifier\n",
    "from sklearn.model_selection import train_test_split\n",
    "from sklearn.pipeline import make_pipeline\n",
    "from sklearn.impute import SimpleImputer\n",
    "from sklearn.neural_network import MLPClassifier\n",
    "from sklearn.preprocessing import LabelEncoder, OneHotEncoder\n",
    "from sklearn.preprocessing import StandardScaler\n",
    "from sklearn.naive_bayes import GaussianNB\n",
    "from sklearn.preprocessing import label_binarize\n",
    "from sklearn.compose import ColumnTransformer, make_column_transformer\n",
    "from matplotlib.colors import ListedColormap\n",
    "from imblearn.over_sampling import SMOTE\n",
    "from sklearn.linear_model import LogisticRegression"
   ]
  },
  {
   "cell_type": "markdown",
   "metadata": {},
   "source": [
    "Graphing ROC Curve\n",
    "\n",
    "Function that graphs the ROC Curve based on the y test values vs the model predicted y test values. The ROC curve or the AUC ROC Curve (Area under the Curve Receiver Operating Characteristics) evaluates the classification models' performance. It explains how accurately the model is able to predict the various classification classes. \n",
    "\n",
    "https://towardsdatascience.com/understanding-auc-roc-curve-68b2303cc9c5"
   ]
  },
  {
   "cell_type": "code",
   "execution_count": 2,
   "metadata": {
    "collapsed": true
   },
   "outputs": [],
   "source": [
    "def graphROCCurve(y_test, y_pred):    \n",
    "    fpr = {}\n",
    "    tpr = {}\n",
    "    roc_auc = {}\n",
    "    \n",
    "    # Compute micro-average ROC curve and ROC area\n",
    "    fpr, tpr, _ = metrics.roc_curve(y_test, y_pred, pos_label=\"Yes\")\n",
    "    roc_auc = metrics.auc(fpr, tpr)\n",
    "    \n",
    "    plt.figure()\n",
    "    lw = 2\n",
    "    plt.plot(fpr, tpr, color='darkorange',\n",
    "             lw=lw, label='ROC curve (area = %0.2f)' % roc_auc)\n",
    "    plt.plot([0, 1], [0, 1], color='navy', lw=lw, linestyle='--')\n",
    "    plt.xlim([0.0, 1.0])\n",
    "    plt.ylim([0.0, 1.05])\n",
    "    plt.xlabel('False Positive Rate')\n",
    "    plt.ylabel('True Positive Rate')\n",
    "    plt.title('Receiver operating characteristic')\n",
    "    plt.legend(loc=\"lower right\")\n",
    "    plt.show()"
   ]
  },
  {
   "cell_type": "markdown",
   "metadata": {},
   "source": [
    "Graphing important features for Random Forest Classifier\n",
    "\n",
    "This method deals with graphing the output of calling the random forest classifier's features importance attribute. The attribute details what features within the set of independent variables that were provided made an impact in the model's ability to classify the class.\n",
    "\n",
    "https://towardsdatascience.com/running-random-forests-inspect-the-feature-importances-with-this-code-2b00dd72b92e"
   ]
  },
  {
   "cell_type": "code",
   "execution_count": 3,
   "metadata": {
    "collapsed": true
   },
   "outputs": [],
   "source": [
    "def graphFeaturesImportant(rf_classifier, features):\n",
    "    trace = go.Scatter(\n",
    "        y = features, \n",
    "        x = dataset.columns.values, mode = \"markers\",\n",
    "        marker = dict(\n",
    "            sizemode = \"diameter\", sizeref=1, size=13, \n",
    "            color=features, colorscale=\"Portland\",\n",
    "            showscale=True\n",
    "        ),\n",
    "        text = dataset.columns.values\n",
    "    )\n",
    "    data = [trace]\n",
    "\n",
    "    layout = go.Layout(\n",
    "        autosize = True,\n",
    "        title = \"Random Forest Feature Importance\",\n",
    "        hovermode = \"closest\",\n",
    "        xaxis = dict(\n",
    "            ticklen=5, showgrid=True, zeroline=True, showline=True\n",
    "        ),\n",
    "        yaxis = dict(\n",
    "            title=\"Feature Importance\", showgrid=True, zeroline=True,\n",
    "            ticklen=5, gridwidth=2\n",
    "        ),\n",
    "        showlegend=False\n",
    "    )\n",
    "    \n",
    "    fig = go.Figure(data=data, layout=layout)\n",
    "    py.iplot(fig)"
   ]
  },
  {
   "cell_type": "markdown",
   "metadata": {},
   "source": [
    "Defining the Neural Network Model"
   ]
  },
  {
   "cell_type": "code",
   "execution_count": 4,
   "metadata": {
    "collapsed": true
   },
   "outputs": [],
   "source": [
    "# developing the Multi Layer Perceptron Neural Network\n",
    "def creatingNeuralNetworkPredictor(X_train, y_train, X_test, y_test, preprocess):\n",
    "    print(\"\\nNeural Network Classifier Section\")\n",
    "    print(\"---------------------------------\")\n",
    "    \n",
    "    # initialize the Multi Layer Perceptron Neural Network \n",
    "    mlp_classifier = MLPClassifier(solver=\"adam\", alpha=1e-5, max_iter=500,\n",
    "                               hidden_layer_sizes=(13, 13, 13))\n",
    "    \n",
    "    # hook up the preprocess step with the classifier params and create the pipeline\n",
    "    model = make_pipeline(preprocess, mlp_classifier)\n",
    "    \n",
    "    # fitting the Multi Layer Perceptron to the training set\n",
    "    model.fit(X_train, y_train)\n",
    "    \n",
    "    print(\"Training set Score: \", model.score(X_train, y_train))\n",
    "    print(\"Testing set Score: \", model.score(X_test, y_test))    \n",
    "    \n",
    "    return model"
   ]
  },
  {
   "cell_type": "markdown",
   "metadata": {},
   "source": [
    "Defining the Random Forest Classifier\n",
    "\n",
    "Creating a random forest classifier model along with training and testing it. A random forest classifier leverages a number of decision trees and aggregates their prediction values to find the best value given multiple iterations of sub-sampling the training data. \n",
    "\n",
    "It uses averaging to improve the prediction accuracy and to control over-fitting. Several parameters were utilized to configure the random forest classifier:\n",
    "\n",
    "- n_estimators: Number of trees in the forest.\n",
    "- n_jobs: The number of jobs to run in parallel for both fit and predict.\n",
    "\n",
    "https://towardsdatascience.com/understanding-random-forest-58381e0602d2"
   ]
  },
  {
   "cell_type": "code",
   "execution_count": 5,
   "metadata": {
    "collapsed": true
   },
   "outputs": [],
   "source": [
    "# developing the Random Forest Classifier\n",
    "def creatingRandomForestPredictor(X_train, y_train, X_test, y_test, preprocess):\n",
    "    print(\"\\nRandom Forest Classifier Section\")\n",
    "    print(\"---------------------------------\")\n",
    "    \n",
    "    # initialize the Multi Layer Perceptron Neural Network \n",
    "    random_forest_classifier = RandomForestClassifier(**{'n_jobs': -1,\n",
    "        'n_estimators': 800,\n",
    "#         'warm_start': True, \n",
    "#         'max_features': 0.3,\n",
    "#         'max_depth': 9,\n",
    "#         'min_samples_leaf': 2,\n",
    "#         'max_features' : 'sqrt',\n",
    "#         'random_state' : 0,\n",
    "#         'verbose': 0\n",
    "    })\n",
    "    \n",
    "    # hook up the preprocess step with the classifier params and create the pipeline\n",
    "    model = make_pipeline(preprocess, random_forest_classifier)\n",
    "    \n",
    "    # fitting Random Forest to the training set\n",
    "    model.fit(X_train, y_train)\n",
    "    \n",
    "    print(\"Training set Score: \", model.score(X_train, y_train))\n",
    "    print(\"Testing set Score: \", model.score(X_test, y_test))    \n",
    "    \n",
    "    return model"
   ]
  },
  {
   "cell_type": "markdown",
   "metadata": {},
   "source": [
    "Importing the fictionally generated data that was retrieved from Kaggle.\n",
    "\n",
    "https://www.kaggle.com/pavansubhasht/ibm-hr-analytics-attrition-dataset"
   ]
  },
  {
   "cell_type": "code",
   "execution_count": 7,
   "metadata": {},
   "outputs": [
    {
     "data": {
      "text/html": [
       "<div>\n",
       "<style>\n",
       "    .dataframe thead tr:only-child th {\n",
       "        text-align: right;\n",
       "    }\n",
       "\n",
       "    .dataframe thead th {\n",
       "        text-align: left;\n",
       "    }\n",
       "\n",
       "    .dataframe tbody tr th {\n",
       "        vertical-align: top;\n",
       "    }\n",
       "</style>\n",
       "<table border=\"1\" class=\"dataframe\">\n",
       "  <thead>\n",
       "    <tr style=\"text-align: right;\">\n",
       "      <th></th>\n",
       "      <th>Age</th>\n",
       "      <th>Attrition</th>\n",
       "      <th>BusinessTravel</th>\n",
       "      <th>DailyRate</th>\n",
       "      <th>Department</th>\n",
       "      <th>DistanceFromHome</th>\n",
       "      <th>Education</th>\n",
       "      <th>EducationField</th>\n",
       "      <th>EmployeeCount</th>\n",
       "      <th>EmployeeNumber</th>\n",
       "      <th>...</th>\n",
       "      <th>PerformanceRating</th>\n",
       "      <th>RelationshipSatisfaction</th>\n",
       "      <th>StandardHours</th>\n",
       "      <th>StockOptionLevel</th>\n",
       "      <th>TotalWorkingYears</th>\n",
       "      <th>TrainingTimesLastYear</th>\n",
       "      <th>WorkLifeBalance</th>\n",
       "      <th>YearsAtCompany</th>\n",
       "      <th>YearsInCurrentRole</th>\n",
       "      <th>YearsSinceLastPromotion</th>\n",
       "    </tr>\n",
       "  </thead>\n",
       "  <tbody>\n",
       "    <tr>\n",
       "      <th>0</th>\n",
       "      <td>41</td>\n",
       "      <td>Yes</td>\n",
       "      <td>Travel_Rarely</td>\n",
       "      <td>1102</td>\n",
       "      <td>Sales</td>\n",
       "      <td>1</td>\n",
       "      <td>2</td>\n",
       "      <td>Life Sciences</td>\n",
       "      <td>1</td>\n",
       "      <td>1</td>\n",
       "      <td>...</td>\n",
       "      <td>3</td>\n",
       "      <td>1</td>\n",
       "      <td>80</td>\n",
       "      <td>0</td>\n",
       "      <td>8</td>\n",
       "      <td>0</td>\n",
       "      <td>1</td>\n",
       "      <td>6</td>\n",
       "      <td>4</td>\n",
       "      <td>0</td>\n",
       "    </tr>\n",
       "    <tr>\n",
       "      <th>1</th>\n",
       "      <td>49</td>\n",
       "      <td>No</td>\n",
       "      <td>Travel_Frequently</td>\n",
       "      <td>279</td>\n",
       "      <td>Research &amp; Development</td>\n",
       "      <td>8</td>\n",
       "      <td>1</td>\n",
       "      <td>Life Sciences</td>\n",
       "      <td>1</td>\n",
       "      <td>2</td>\n",
       "      <td>...</td>\n",
       "      <td>4</td>\n",
       "      <td>4</td>\n",
       "      <td>80</td>\n",
       "      <td>1</td>\n",
       "      <td>10</td>\n",
       "      <td>3</td>\n",
       "      <td>3</td>\n",
       "      <td>10</td>\n",
       "      <td>7</td>\n",
       "      <td>1</td>\n",
       "    </tr>\n",
       "    <tr>\n",
       "      <th>2</th>\n",
       "      <td>37</td>\n",
       "      <td>Yes</td>\n",
       "      <td>Travel_Rarely</td>\n",
       "      <td>1373</td>\n",
       "      <td>Research &amp; Development</td>\n",
       "      <td>2</td>\n",
       "      <td>2</td>\n",
       "      <td>Other</td>\n",
       "      <td>1</td>\n",
       "      <td>4</td>\n",
       "      <td>...</td>\n",
       "      <td>3</td>\n",
       "      <td>2</td>\n",
       "      <td>80</td>\n",
       "      <td>0</td>\n",
       "      <td>7</td>\n",
       "      <td>3</td>\n",
       "      <td>3</td>\n",
       "      <td>0</td>\n",
       "      <td>0</td>\n",
       "      <td>0</td>\n",
       "    </tr>\n",
       "    <tr>\n",
       "      <th>3</th>\n",
       "      <td>33</td>\n",
       "      <td>No</td>\n",
       "      <td>Travel_Frequently</td>\n",
       "      <td>1392</td>\n",
       "      <td>Research &amp; Development</td>\n",
       "      <td>3</td>\n",
       "      <td>4</td>\n",
       "      <td>Life Sciences</td>\n",
       "      <td>1</td>\n",
       "      <td>5</td>\n",
       "      <td>...</td>\n",
       "      <td>3</td>\n",
       "      <td>3</td>\n",
       "      <td>80</td>\n",
       "      <td>0</td>\n",
       "      <td>8</td>\n",
       "      <td>3</td>\n",
       "      <td>3</td>\n",
       "      <td>8</td>\n",
       "      <td>7</td>\n",
       "      <td>3</td>\n",
       "    </tr>\n",
       "    <tr>\n",
       "      <th>4</th>\n",
       "      <td>27</td>\n",
       "      <td>No</td>\n",
       "      <td>Travel_Rarely</td>\n",
       "      <td>591</td>\n",
       "      <td>Research &amp; Development</td>\n",
       "      <td>2</td>\n",
       "      <td>1</td>\n",
       "      <td>Medical</td>\n",
       "      <td>1</td>\n",
       "      <td>7</td>\n",
       "      <td>...</td>\n",
       "      <td>3</td>\n",
       "      <td>4</td>\n",
       "      <td>80</td>\n",
       "      <td>1</td>\n",
       "      <td>6</td>\n",
       "      <td>3</td>\n",
       "      <td>3</td>\n",
       "      <td>2</td>\n",
       "      <td>2</td>\n",
       "      <td>2</td>\n",
       "    </tr>\n",
       "  </tbody>\n",
       "</table>\n",
       "<p>5 rows × 34 columns</p>\n",
       "</div>"
      ],
      "text/plain": [
       "   Age Attrition     BusinessTravel  DailyRate              Department  \\\n",
       "0   41       Yes      Travel_Rarely       1102                   Sales   \n",
       "1   49        No  Travel_Frequently        279  Research & Development   \n",
       "2   37       Yes      Travel_Rarely       1373  Research & Development   \n",
       "3   33        No  Travel_Frequently       1392  Research & Development   \n",
       "4   27        No      Travel_Rarely        591  Research & Development   \n",
       "\n",
       "   DistanceFromHome  Education EducationField  EmployeeCount  EmployeeNumber  \\\n",
       "0                 1          2  Life Sciences              1               1   \n",
       "1                 8          1  Life Sciences              1               2   \n",
       "2                 2          2          Other              1               4   \n",
       "3                 3          4  Life Sciences              1               5   \n",
       "4                 2          1        Medical              1               7   \n",
       "\n",
       "            ...             PerformanceRating RelationshipSatisfaction  \\\n",
       "0           ...                             3                        1   \n",
       "1           ...                             4                        4   \n",
       "2           ...                             3                        2   \n",
       "3           ...                             3                        3   \n",
       "4           ...                             3                        4   \n",
       "\n",
       "   StandardHours  StockOptionLevel  TotalWorkingYears TrainingTimesLastYear  \\\n",
       "0             80                 0                  8                     0   \n",
       "1             80                 1                 10                     3   \n",
       "2             80                 0                  7                     3   \n",
       "3             80                 0                  8                     3   \n",
       "4             80                 1                  6                     3   \n",
       "\n",
       "   WorkLifeBalance YearsAtCompany  YearsInCurrentRole  YearsSinceLastPromotion  \n",
       "0                1              6                   4                        0  \n",
       "1                3             10                   7                        1  \n",
       "2                3              0                   0                        0  \n",
       "3                3              8                   7                        3  \n",
       "4                3              2                   2                        2  \n",
       "\n",
       "[5 rows x 34 columns]"
      ]
     },
     "execution_count": 7,
     "metadata": {},
     "output_type": "execute_result"
    }
   ],
   "source": [
    "# importing the data\n",
    "dataset = pd.read_csv(\"./data/employee_attrition.csv\")\n",
    "dataset = dataset.drop([\"YearsWithCurrManager\"], axis=1)\n",
    "dataset.head()"
   ]
  },
  {
   "cell_type": "markdown",
   "metadata": {},
   "source": [
    "Setting up preprocess steps using the sklearn feature of Pipelines. Main tasks include the following: \n",
    "\n",
    "- Separating the independent variables from the dependent variable of Attrition.  \n",
    "- Separating numerical columns from columns that have string values. \n",
    "- Used OneHotEncoder method and library to encode string values of a category into numeric array like integers that can be used to represent the categorical values in a discrete manner.\n",
    "- Used SimpleImputer to complete missing or null values within a column. \n",
    "- Used StandardScaler to standardize the features by removing mean and scaling to unit variance. Often times when features don't look more like each other, it can throw off the estimators. \n",
    "\n",
    "https://scikit-learn.org/stable/modules/generated/sklearn.preprocessing.OneHotEncoder.html\n",
    "https://scikit-learn.org/stable/modules/generated/sklearn.impute.SimpleImputer.html"
   ]
  },
  {
   "cell_type": "code",
   "execution_count": 8,
   "metadata": {},
   "outputs": [
    {
     "name": "stderr",
     "output_type": "stream",
     "text": [
      "/anaconda/lib/python3.6/site-packages/sklearn/compose/_column_transformer.py:751: DeprecationWarning:\n",
      "\n",
      "`make_column_transformer` now expects (transformer, columns) as input tuples instead of (columns, transformer). This has been introduced in v0.20.1. `make_column_transformer` will stop accepting the deprecated (columns, transformer) order in v0.22.\n",
      "\n"
     ]
    }
   ],
   "source": [
    "# using ColumnTransformer only approach\n",
    "transformed_data = dataset.loc[:, dataset.columns != \"Attrition\"]\n",
    "X = transformed_data.values\n",
    "y = dataset.Attrition.values\n",
    "\n",
    "numerical_features = transformed_data.dtypes == \"int64\"\n",
    "categorical_features = ~numerical_features\n",
    "X_train, X_test, y_train, y_test = train_test_split(X, y, test_size = 0.3)\n",
    "\n",
    "preprocess = make_column_transformer(\n",
    "    (categorical_features, OneHotEncoder()),\n",
    "    (numerical_features, make_pipeline(SimpleImputer(), StandardScaler()))\n",
    ")"
   ]
  },
  {
   "cell_type": "markdown",
   "metadata": {},
   "source": [
    "Provided initial analysis of the data including column names, any null values within the data, and total responses per Attrition values."
   ]
  },
  {
   "cell_type": "code",
   "execution_count": 12,
   "metadata": {},
   "outputs": [
    {
     "name": "stdout",
     "output_type": "stream",
     "text": [
      "Summary Info About the Dataset\n",
      "Does category contain null values?\n",
      "Age                         False\n",
      "Attrition                   False\n",
      "BusinessTravel              False\n",
      "DailyRate                   False\n",
      "Department                  False\n",
      "DistanceFromHome            False\n",
      "Education                   False\n",
      "EducationField              False\n",
      "EmployeeCount               False\n",
      "EmployeeNumber              False\n",
      "EnvironmentSatisfaction     False\n",
      "Gender                      False\n",
      "HourlyRate                  False\n",
      "JobInvolvement              False\n",
      "JobLevel                    False\n",
      "JobRole                     False\n",
      "JobSatisfaction             False\n",
      "MaritalStatus               False\n",
      "MonthlyIncome               False\n",
      "MonthlyRate                 False\n",
      "NumCompaniesWorked          False\n",
      "Over18                      False\n",
      "OverTime                    False\n",
      "PercentSalaryHike           False\n",
      "PerformanceRating           False\n",
      "RelationshipSatisfaction    False\n",
      "StandardHours               False\n",
      "StockOptionLevel            False\n",
      "TotalWorkingYears           False\n",
      "TrainingTimesLastYear       False\n",
      "WorkLifeBalance             False\n",
      "YearsAtCompany              False\n",
      "YearsInCurrentRole          False\n",
      "YearsSinceLastPromotion     False\n",
      "dtype: bool \n",
      "\n",
      "Said Yes to Attrition:  237\n",
      "Said No to Attrition:   1233\n",
      "Total responses:        1470\n"
     ]
    }
   ],
   "source": [
    "# outputting data summary\n",
    "print(\"Summary Info About the Dataset\")\n",
    "print(\"Does category contain null values?\")\n",
    "print(dataset.isnull().any(), \"\\n\")\n",
    "print(\"Said Yes to Attrition: \", y[(y == \"Yes\")].size)\n",
    "print(\"Said No to Attrition:  \", y[(y == \"No\")].size)\n",
    "print(\"Total responses:       \", y.size)"
   ]
  },
  {
   "cell_type": "markdown",
   "metadata": {},
   "source": [
    "Training and Testing the Neural Network Model"
   ]
  },
  {
   "cell_type": "code",
   "execution_count": 14,
   "metadata": {},
   "outputs": [
    {
     "name": "stdout",
     "output_type": "stream",
     "text": [
      "\n",
      "Neural Network Classifier Section\n",
      "---------------------------------\n",
      "Training set Score:  0.9990281827016521\n",
      "Testing set Score:  0.8458049886621315\n"
     ]
    }
   ],
   "source": [
    "model = creatingNeuralNetworkPredictor(X_train, y_train, X_test, y_test, preprocess)"
   ]
  },
  {
   "cell_type": "markdown",
   "metadata": {},
   "source": [
    "Analyzing the Model - Accuracy\n",
    "\n",
    "Some notable measurements include the following:\n",
    "- Accuracy score of the prediction represented in a percentage value. \n",
    "- Classification Report \n",
    "    - Metrics\n",
    "        - Precision: Ratio that dictates the ability of the classifier not to label as positive if a sample is negative. \n",
    "        - Recall: Ratio that dictates the ability of the classifier to find all positive samples.\n",
    "        - F1-Score or F-beta score is the weighted harmonic of the precision and recall.\n",
    "        - Support is the number of occurrences of each class. \n",
    "    - Labels - other than the values of each class in the dependent variable\n",
    "        - Macro Average: Calculate metrics for each label, and find their unweighted mean. This does not take label imbalance into account.\n",
    "        - Weighted Average: Calculate metrics for each label, and find their average weighted by support (the number of true instances for each label). This alters ‘macro’ to account for label imbalance; it can result in an F-score that is not between precision and recall.\n",
    "        \n",
    "https://scikit-learn.org/stable/modules/generated/sklearn.metrics.precision_recall_fscore_support.html"
   ]
  },
  {
   "cell_type": "markdown",
   "metadata": {},
   "source": [
    "Analyzing the Neural Network Model - Accuracy"
   ]
  },
  {
   "cell_type": "code",
   "execution_count": 15,
   "metadata": {},
   "outputs": [
    {
     "name": "stdout",
     "output_type": "stream",
     "text": [
      "Accuracy Score of Prediction :  84.58049886621315\n",
      "\n",
      "Classification Report\n",
      "              precision    recall  f1-score   support\n",
      "\n",
      "          No       0.89      0.93      0.91       364\n",
      "         Yes       0.58      0.44      0.50        77\n",
      "\n",
      "    accuracy                           0.85       441\n",
      "   macro avg       0.73      0.69      0.70       441\n",
      "weighted avg       0.83      0.85      0.84       441\n",
      "\n",
      "Zero One Loss:  0.1541950113378685\n",
      "Log Loss:       1.4522748792020248\n"
     ]
    }
   ],
   "source": [
    "# Predicting the Test set results\n",
    "y_pred = model.predict(X_test)\n",
    "\n",
    "# output results\n",
    "y_pred_prob = model.predict_proba(X_test)[:, 1]\n",
    "\n",
    "print(\"Accuracy Score of Prediction : \", metrics.accuracy_score(y_test, y_pred) * 100)\n",
    "print(\"\\nClassification Report\")\n",
    "print(metrics.classification_report(y_test, y_pred))\n",
    "print(\"Zero One Loss: \", metrics.zero_one_loss(y_test, y_pred))\n",
    "print(\"Log Loss:      \", metrics.log_loss(y_test, y_pred_prob))"
   ]
  },
  {
   "cell_type": "markdown",
   "metadata": {},
   "source": [
    "Analyzing the Neural Network Model - ROC Curve"
   ]
  },
  {
   "cell_type": "code",
   "execution_count": 70,
   "metadata": {},
   "outputs": [
    {
     "data": {
      "image/png": "[encoded data removed]",
      "text/plain": [
       "<Figure size 576x396 with 1 Axes>"
      ]
     },
     "metadata": {},
     "output_type": "display_data"
    },
    {
     "name": "stdout",
     "output_type": "stream",
     "text": [
      "ROC AUC Score:  0.768168709444845\n"
     ]
    }
   ],
   "source": [
    "graphROCCurve(y_test, y_pred_prob)\n",
    "print(\"ROC AUC Score: \", metrics.roc_auc_score(y_test, y_pred_prob, average=\"micro\"))"
   ]
  },
  {
   "cell_type": "markdown",
   "metadata": {},
   "source": [
    "Analyzing the Neural Network Model - Confusion Matrix\n",
    "\n",
    "https://towardsdatascience.com/understanding-confusion-matrix-a9ad42dcfd62"
   ]
  },
  {
   "cell_type": "code",
   "execution_count": 71,
   "metadata": {},
   "outputs": [
    {
     "name": "stdout",
     "output_type": "stream",
     "text": [
      "\n",
      "Confusion Matrix\n",
      "Predicted   No  Yes  All\n",
      "True                    \n",
      "No         333   32  365\n",
      "Yes         43   33   76\n",
      "All        376   65  441\n"
     ]
    },
    {
     "data": {
      "image/png": "[encoded data removed]",
      "text/plain": [
       "<Figure size 576x396 with 2 Axes>"
      ]
     },
     "metadata": {},
     "output_type": "display_data"
    }
   ],
   "source": [
    "cm = metrics.confusion_matrix(y_test, y_pred)\n",
    "sns.heatmap(cm)\n",
    "print(\"\\nConfusion Matrix\")\n",
    "print(pd.crosstab(y_test.ravel(), y_pred.ravel(), rownames=['True'], colnames=['Predicted'], margins=True))\n",
    "plt.show()"
   ]
  },
  {
   "cell_type": "markdown",
   "metadata": {},
   "source": [
    "Training and Testing the Model"
   ]
  },
  {
   "cell_type": "code",
   "execution_count": 72,
   "metadata": {},
   "outputs": [
    {
     "name": "stdout",
     "output_type": "stream",
     "text": [
      "\n",
      "Random Forest Classifier Section\n",
      "---------------------------------\n",
      "Training set Score:  1.0\n",
      "Testing set Score:  0.8594104308390023\n"
     ]
    }
   ],
   "source": [
    "model = creatingRandomForestPredictor(X_train, y_train, X_test, y_test, preprocess)"
   ]
  },
  {
   "cell_type": "markdown",
   "metadata": {
    "collapsed": true
   },
   "source": [
    "Analyzing the Random Forest Model - Accuracy"
   ]
  },
  {
   "cell_type": "code",
   "execution_count": 73,
   "metadata": {},
   "outputs": [
    {
     "name": "stdout",
     "output_type": "stream",
     "text": [
      "Accuracy Score of Prediction :  85.94104308390023\n",
      "\n",
      "Classification Report\n",
      "              precision    recall  f1-score   support\n",
      "\n",
      "          No       0.86      1.00      0.92       365\n",
      "         Yes       0.94      0.20      0.33        76\n",
      "\n",
      "    accuracy                           0.86       441\n",
      "   macro avg       0.90      0.60      0.62       441\n",
      "weighted avg       0.87      0.86      0.82       441\n",
      "\n",
      "Zero One Loss:  0.14058956916099774\n",
      "Log Loss:       0.3522141666021277\n"
     ]
    }
   ],
   "source": [
    "\n",
    "# Predicting the Test set results\n",
    "y_pred = model.predict(X_test)\n",
    "\n",
    "# output results\n",
    "y_pred_prob = model.predict_proba(X_test)[:, 1]\n",
    "print(\"Accuracy Score of Prediction : \", metrics.accuracy_score(y_test, y_pred) * 100)\n",
    "print(\"\\nClassification Report\")\n",
    "print(metrics.classification_report(y_test, y_pred))\n",
    "print(\"Zero One Loss: \", metrics.zero_one_loss(y_test, y_pred))\n",
    "print(\"Log Loss:      \", metrics.log_loss(y_test, y_pred_prob))"
   ]
  },
  {
   "cell_type": "markdown",
   "metadata": {},
   "source": [
    "Analyzing the Random Forest Model - ROC Curve"
   ]
  },
  {
   "cell_type": "code",
   "execution_count": 74,
   "metadata": {},
   "outputs": [
    {
     "data": {
      "image/png": "[encoded data removed]",
      "text/plain": [
       "<Figure size 576x396 with 1 Axes>"
      ]
     },
     "metadata": {},
     "output_type": "display_data"
    },
    {
     "name": "stdout",
     "output_type": "stream",
     "text": [
      "ROC AUC Score:  0.8337959625090122\n"
     ]
    }
   ],
   "source": [
    "graphROCCurve(y_test, y_pred_prob)\n",
    "print(\"ROC AUC Score: \", metrics.roc_auc_score(y_test, y_pred_prob, average=\"micro\"))"
   ]
  },
  {
   "cell_type": "markdown",
   "metadata": {},
   "source": [
    "Analyzing the Random Forest Model - Confusion Matrix"
   ]
  },
  {
   "cell_type": "code",
   "execution_count": 75,
   "metadata": {},
   "outputs": [
    {
     "name": "stdout",
     "output_type": "stream",
     "text": [
      "\n",
      "Confusion Matrix\n",
      "Predicted   No  Yes  All\n",
      "True                    \n",
      "No         364    1  365\n",
      "Yes         61   15   76\n",
      "All        425   16  441\n"
     ]
    },
    {
     "data": {
      "application/vnd.plotly.v1+json": {
       "config": {
        "linkText": "Export to plot.ly",
        "plotlyServerURL": "https://plot.ly",
        "showLink": false
       },
       "data": [
        {
         "marker": {
          "color": [
           0.0034689988215460977,
           0.010946242320458249,
           0.008152222939781023,
           0.0015594998170203895,
           0.007298910547073723,
           0.010504125108379102,
           0.0007087228667571067,
           0.007739000688804631,
           0.006437457310073304,
           0.0070361309946914445,
           0.0035602402287979416,
           0.00904800106946782,
           0.007620863162447134,
           0.007274892502438192,
           0.0035411192419205085,
           0.0016393051923737124,
           0.009785312276116332,
           0.0014422622259070484,
           0.0034444590892747664,
           0.000739360950972945,
           0.005974770297273611,
           0.007744475138069566,
           0.00856745856789637,
           0.006096475493259922,
           0.0074157190518867174,
           0.016890483088565222,
           0,
           0.030195649067189193,
           0.027669944190246213,
           0.05392207832128569,
           0.052771720797061106,
           0.04932508687576605,
           0.01720532561471663,
           0,
           0.043120036507414375,
           0.029010421710344552,
           0.04339908438616116,
           0.021146327581545134,
           0.01953883615922466,
           0.025209858013807904,
           0.07528865698944394,
           0.050131860437582026,
           0.027147235498282105,
           0.03367529588117527,
           0.005102103029968524,
           0.02244391662687975,
           0,
           0.023179245584351013,
           0.04868545185978664,
           0.025423831455565392,
           0.02480339992724094,
           0.03941880255299999,
           0.026733998356494114,
           0.0208153235842148
          ],
          "colorscale": "Portland",
          "showscale": true,
          "size": 13,
          "sizemode": "diameter",
          "sizeref": 1
         },
         "mode": "markers",
         "text": [
          "Age",
          "Attrition",
          "BusinessTravel",
          "DailyRate",
          "Department",
          "DistanceFromHome",
          "Education",
          "EducationField",
          "EmployeeCount",
          "EmployeeNumber",
          "EnvironmentSatisfaction",
          "Gender",
          "HourlyRate",
          "JobInvolvement",
          "JobLevel",
          "JobRole",
          "JobSatisfaction",
          "MaritalStatus",
          "MonthlyIncome",
          "MonthlyRate",
          "NumCompaniesWorked",
          "Over18",
          "OverTime",
          "PercentSalaryHike",
          "PerformanceRating",
          "RelationshipSatisfaction",
          "StandardHours",
          "StockOptionLevel",
          "TotalWorkingYears",
          "TrainingTimesLastYear",
          "WorkLifeBalance",
          "YearsAtCompany",
          "YearsInCurrentRole",
          "YearsSinceLastPromotion"
         ],
         "type": "scatter",
         "uid": "2748017e-fcb1-4f3b-9910-b2c1e160da7e",
         "x": [
          "Age",
          "Attrition",
          "BusinessTravel",
          "DailyRate",
          "Department",
          "DistanceFromHome",
          "Education",
          "EducationField",
          "EmployeeCount",
          "EmployeeNumber",
          "EnvironmentSatisfaction",
          "Gender",
          "HourlyRate",
          "JobInvolvement",
          "JobLevel",
          "JobRole",
          "JobSatisfaction",
          "MaritalStatus",
          "MonthlyIncome",
          "MonthlyRate",
          "NumCompaniesWorked",
          "Over18",
          "OverTime",
          "PercentSalaryHike",
          "PerformanceRating",
          "RelationshipSatisfaction",
          "StandardHours",
          "StockOptionLevel",
          "TotalWorkingYears",
          "TrainingTimesLastYear",
          "WorkLifeBalance",
          "YearsAtCompany",
          "YearsInCurrentRole",
          "YearsSinceLastPromotion"
         ],
         "y": [
          0.0034689988215460977,
          0.010946242320458249,
          0.008152222939781023,
          0.0015594998170203895,
          0.007298910547073723,
          0.010504125108379102,
          0.0007087228667571067,
          0.007739000688804631,
          0.006437457310073304,
          0.0070361309946914445,
          0.0035602402287979416,
          0.00904800106946782,
          0.007620863162447134,
          0.007274892502438192,
          0.0035411192419205085,
          0.0016393051923737124,
          0.009785312276116332,
          0.0014422622259070484,
          0.0034444590892747664,
          0.000739360950972945,
          0.005974770297273611,
          0.007744475138069566,
          0.00856745856789637,
          0.006096475493259922,
          0.0074157190518867174,
          0.016890483088565222,
          0,
          0.030195649067189193,
          0.027669944190246213,
          0.05392207832128569,
          0.052771720797061106,
          0.04932508687576605,
          0.01720532561471663,
          0,
          0.043120036507414375,
          0.029010421710344552,
          0.04339908438616116,
          0.021146327581545134,
          0.01953883615922466,
          0.025209858013807904,
          0.07528865698944394,
          0.050131860437582026,
          0.027147235498282105,
          0.03367529588117527,
          0.005102103029968524,
          0.02244391662687975,
          0,
          0.023179245584351013,
          0.04868545185978664,
          0.025423831455565392,
          0.02480339992724094,
          0.03941880255299999,
          0.026733998356494114,
          0.0208153235842148
         ]
        }
       ],
       "layout": {
        "autosize": true,
        "hovermode": "closest",
        "showlegend": false,
        "title": {
         "text": "Random Forest Feature Importance"
        },
        "xaxis": {
         "showgrid": true,
         "showline": true,
         "ticklen": 5,
         "zeroline": true
        },
        "yaxis": {
         "gridwidth": 2,
         "showgrid": true,
         "ticklen": 5,
         "title": {
          "text": "Feature Importance"
         },
         "zeroline": true
        }
       }
      },
      "text/html": [
       "<div>\n",
       "        \n",
       "        \n",
       "            <div id=\"0a641859-9a14-4172-8ced-2072b9a26bc8\" class=\"plotly-graph-div\" style=\"height:525px; width:100%;\"></div>\n",
       "            <script type=\"text/javascript\">\n",
       "                require([\"plotly\"], function(Plotly) {\n",
       "                    window.PLOTLYENV=window.PLOTLYENV || {};\n",
       "                    window.PLOTLYENV.BASE_URL='https://plot.ly';\n",
       "                    \n",
       "                if (document.getElementById(\"0a641859-9a14-4172-8ced-2072b9a26bc8\")) {\n",
       "                    Plotly.newPlot(\n",
       "                        '0a641859-9a14-4172-8ced-2072b9a26bc8',\n",
       "                        [{\"marker\": {\"color\": [0.0034689988215460977, 0.010946242320458249, 0.008152222939781023, 0.0015594998170203895, 0.007298910547073723, 0.010504125108379102, 0.0007087228667571067, 0.007739000688804631, 0.006437457310073304, 0.0070361309946914445, 0.0035602402287979416, 0.00904800106946782, 0.007620863162447134, 0.007274892502438192, 0.0035411192419205085, 0.0016393051923737124, 0.009785312276116332, 0.0014422622259070484, 0.0034444590892747664, 0.000739360950972945, 0.005974770297273611, 0.007744475138069566, 0.00856745856789637, 0.006096475493259922, 0.0074157190518867174, 0.016890483088565222, 0.0, 0.030195649067189193, 0.027669944190246213, 0.05392207832128569, 0.052771720797061106, 0.04932508687576605, 0.01720532561471663, 0.0, 0.043120036507414375, 0.029010421710344552, 0.04339908438616116, 0.021146327581545134, 0.01953883615922466, 0.025209858013807904, 0.07528865698944394, 0.050131860437582026, 0.027147235498282105, 0.03367529588117527, 0.005102103029968524, 0.02244391662687975, 0.0, 0.023179245584351013, 0.04868545185978664, 0.025423831455565392, 0.02480339992724094, 0.03941880255299999, 0.026733998356494114, 0.0208153235842148], \"colorscale\": \"Portland\", \"showscale\": true, \"size\": 13, \"sizemode\": \"diameter\", \"sizeref\": 1}, \"mode\": \"markers\", \"text\": [\"Age\", \"Attrition\", \"BusinessTravel\", \"DailyRate\", \"Department\", \"DistanceFromHome\", \"Education\", \"EducationField\", \"EmployeeCount\", \"EmployeeNumber\", \"EnvironmentSatisfaction\", \"Gender\", \"HourlyRate\", \"JobInvolvement\", \"JobLevel\", \"JobRole\", \"JobSatisfaction\", \"MaritalStatus\", \"MonthlyIncome\", \"MonthlyRate\", \"NumCompaniesWorked\", \"Over18\", \"OverTime\", \"PercentSalaryHike\", \"PerformanceRating\", \"RelationshipSatisfaction\", \"StandardHours\", \"StockOptionLevel\", \"TotalWorkingYears\", \"TrainingTimesLastYear\", \"WorkLifeBalance\", \"YearsAtCompany\", \"YearsInCurrentRole\", \"YearsSinceLastPromotion\"], \"type\": \"scatter\", \"uid\": \"2748017e-fcb1-4f3b-9910-b2c1e160da7e\", \"x\": [\"Age\", \"Attrition\", \"BusinessTravel\", \"DailyRate\", \"Department\", \"DistanceFromHome\", \"Education\", \"EducationField\", \"EmployeeCount\", \"EmployeeNumber\", \"EnvironmentSatisfaction\", \"Gender\", \"HourlyRate\", \"JobInvolvement\", \"JobLevel\", \"JobRole\", \"JobSatisfaction\", \"MaritalStatus\", \"MonthlyIncome\", \"MonthlyRate\", \"NumCompaniesWorked\", \"Over18\", \"OverTime\", \"PercentSalaryHike\", \"PerformanceRating\", \"RelationshipSatisfaction\", \"StandardHours\", \"StockOptionLevel\", \"TotalWorkingYears\", \"TrainingTimesLastYear\", \"WorkLifeBalance\", \"YearsAtCompany\", \"YearsInCurrentRole\", \"YearsSinceLastPromotion\"], \"y\": [0.0034689988215460977, 0.010946242320458249, 0.008152222939781023, 0.0015594998170203895, 0.007298910547073723, 0.010504125108379102, 0.0007087228667571067, 0.007739000688804631, 0.006437457310073304, 0.0070361309946914445, 0.0035602402287979416, 0.00904800106946782, 0.007620863162447134, 0.007274892502438192, 0.0035411192419205085, 0.0016393051923737124, 0.009785312276116332, 0.0014422622259070484, 0.0034444590892747664, 0.000739360950972945, 0.005974770297273611, 0.007744475138069566, 0.00856745856789637, 0.006096475493259922, 0.0074157190518867174, 0.016890483088565222, 0.0, 0.030195649067189193, 0.027669944190246213, 0.05392207832128569, 0.052771720797061106, 0.04932508687576605, 0.01720532561471663, 0.0, 0.043120036507414375, 0.029010421710344552, 0.04339908438616116, 0.021146327581545134, 0.01953883615922466, 0.025209858013807904, 0.07528865698944394, 0.050131860437582026, 0.027147235498282105, 0.03367529588117527, 0.005102103029968524, 0.02244391662687975, 0.0, 0.023179245584351013, 0.04868545185978664, 0.025423831455565392, 0.02480339992724094, 0.03941880255299999, 0.026733998356494114, 0.0208153235842148]}],\n",
       "                        {\"autosize\": true, \"hovermode\": \"closest\", \"showlegend\": false, \"title\": {\"text\": \"Random Forest Feature Importance\"}, \"xaxis\": {\"showgrid\": true, \"showline\": true, \"ticklen\": 5, \"zeroline\": true}, \"yaxis\": {\"gridwidth\": 2, \"showgrid\": true, \"ticklen\": 5, \"title\": {\"text\": \"Feature Importance\"}, \"zeroline\": true}},\n",
       "                        {\"showLink\": false, \"linkText\": \"Export to plot.ly\", \"plotlyServerURL\": \"https://plot.ly\", \"responsive\": true}\n",
       "                    ).then(function(){\n",
       "                            \n",
       "var gd = document.getElementById('0a641859-9a14-4172-8ced-2072b9a26bc8');\n",
       "var x = new MutationObserver(function (mutations, observer) {{\n",
       "        var display = window.getComputedStyle(gd).display;\n",
       "        if (!display || display === 'none') {{\n",
       "            console.log([gd, 'removed!']);\n",
       "            Plotly.purge(gd);\n",
       "            observer.disconnect();\n",
       "        }}\n",
       "}});\n",
       "\n",
       "// Listen for the removal of the full notebook cells\n",
       "var notebookContainer = gd.closest('#notebook-container');\n",
       "if (notebookContainer) {{\n",
       "    x.observe(notebookContainer, {childList: true});\n",
       "}}\n",
       "\n",
       "// Listen for the clearing of the current output cell\n",
       "var outputEl = gd.closest('.output');\n",
       "if (outputEl) {{\n",
       "    x.observe(outputEl, {childList: true});\n",
       "}}\n",
       "\n",
       "                        })\n",
       "                };\n",
       "                });\n",
       "            </script>\n",
       "        </div>"
      ]
     },
     "metadata": {},
     "output_type": "display_data"
    },
    {
     "data": {
      "image/png": "[encoded data removed]",
      "text/plain": [
       "<Figure size 576x396 with 2 Axes>"
      ]
     },
     "metadata": {},
     "output_type": "display_data"
    }
   ],
   "source": [
    "cm = metrics.confusion_matrix(y_test, y_pred)\n",
    "print(\"\\nConfusion Matrix\")\n",
    "print(pd.crosstab(y_test.ravel(), y_pred.ravel(), rownames=['True'], colnames=['Predicted'], margins=True))\n",
    "sns.heatmap(cm, center=True)\n",
    "graphFeaturesImportant(model, model.steps[1][1].feature_importances_)\n",
    "plt.show()"
   ]
  },
  {
   "cell_type": "code",
   "execution_count": null,
   "metadata": {
    "collapsed": true
   },
   "outputs": [],
   "source": []
  }
 ],
 "metadata": {
  "kernelspec": {
   "display_name": "Python 3",
   "language": "python",
   "name": "python3"
  },
  "language_info": {
   "codemirror_mode": {
    "name": "ipython",
    "version": 3
   },
   "file_extension": ".py",
   "mimetype": "text/x-python",
   "name": "python",
   "nbconvert_exporter": "python",
   "pygments_lexer": "ipython3",
   "version": "3.6.6"
  }
 },
 "nbformat": 4,
 "nbformat_minor": 2
}

{
 "cells": [
  {
   "cell_type": "markdown",
   "metadata": {},
   "source": [
    "Importing Libraries\n",
    "\n",
    "Multiple packages and libraries that will be utilized to help process the data, create the model, and display the results in several visualizations.Main modeling library is scikit-learn which is the sklearn package that will be utilized to preprocess the data and to create/train/test the model. "
   ]
  },
  {
   "cell_type": "code",
   "execution_count": 18,
   "metadata": {},
   "outputs": [
    {
     "data": {
      "text/html": [
       "        <script type=\"text/javascript\">\n",
       "        window.PlotlyConfig = {MathJaxConfig: 'local'};\n",
       "        if (window.MathJax) {MathJax.Hub.Config({SVG: {font: \"STIX-Web\"}});}\n",
       "        if (typeof require !== 'undefined') {\n",
       "        require.undef(\"plotly\");\n",
       "        requirejs.config({\n",
       "            paths: {\n",
       "                'plotly': ['https://cdn.plot.ly/plotly-latest.min']\n",
       "            }\n",
       "        });\n",
       "        require(['plotly'], function(Plotly) {\n",
       "            window._Plotly = Plotly;\n",
       "        });\n",
       "        }\n",
       "        </script>\n",
       "        "
      ]
     },
     "metadata": {},
     "output_type": "display_data"
    }
   ],
   "source": [
    "# HR Employee Attrition Predictor\n",
    "import numpy as np\n",
    "import matplotlib.pyplot as plt\n",
    "import pandas as pd\n",
    "import graphviz\n",
    "import seaborn as sns\n",
    "import sklearn.metrics as metrics\n",
    "import plotly.graph_objs as go\n",
    "\n",
    "import plotly.offline as py\n",
    "py.init_notebook_mode(connected=True)\n",
    "import plotly.graph_objs as go\n",
    "import plotly.tools as tls\n",
    " \n",
    "from sklearn.ensemble import RandomForestClassifier\n",
    "from sklearn.model_selection import train_test_split\n",
    "from sklearn.pipeline import make_pipeline\n",
    "from sklearn.impute import SimpleImputer\n",
    "from sklearn.neural_network import MLPClassifier\n",
    "from sklearn.preprocessing import LabelEncoder, OneHotEncoder\n",
    "from sklearn.preprocessing import StandardScaler\n",
    "from sklearn.naive_bayes import GaussianNB\n",
    "from sklearn.preprocessing import label_binarize\n",
    "from sklearn.compose import ColumnTransformer, make_column_transformer\n",
    "from matplotlib.colors import ListedColormap\n",
    "from imblearn.over_sampling import SMOTE\n",
    "from sklearn.linear_model import LogisticRegression"
   ]
  },
  {
   "cell_type": "markdown",
   "metadata": {},
   "source": [
    "Graphing ROC Curve\n",
    "\n",
    "Function that graphs the ROC Curve based on the y test values vs the model predicted y test values. The ROC curve or the AUC ROC Curve (Area under the Curve Receiver Operating Characteristics) evaluates the classification models' performance. It explains how accurately the model is able to predict the various classification classes. \n",
    "\n",
    "https://towardsdatascience.com/understanding-auc-roc-curve-68b2303cc9c5"
   ]
  },
  {
   "cell_type": "code",
   "execution_count": 19,
   "metadata": {
    "collapsed": true
   },
   "outputs": [],
   "source": [
    "def graphROCCurve(y_test, y_pred):    \n",
    "    fpr = {}\n",
    "    tpr = {}\n",
    "    roc_auc = {}\n",
    "    \n",
    "    # Compute micro-average ROC curve and ROC area\n",
    "    fpr, tpr, _ = metrics.roc_curve(y_test, y_pred, pos_label=\"Yes\")\n",
    "    roc_auc = metrics.auc(fpr, tpr)\n",
    "    \n",
    "    plt.figure()\n",
    "    lw = 2\n",
    "    plt.plot(fpr, tpr, color='darkorange',\n",
    "             lw=lw, label='ROC curve (area = %0.2f)' % roc_auc)\n",
    "    plt.plot([0, 1], [0, 1], color='navy', lw=lw, linestyle='--')\n",
    "    plt.xlim([0.0, 1.0])\n",
    "    plt.ylim([0.0, 1.05])\n",
    "    plt.xlabel('False Positive Rate')\n",
    "    plt.ylabel('True Positive Rate')\n",
    "    plt.title('Receiver operating characteristic')\n",
    "    plt.legend(loc=\"lower right\")\n",
    "    plt.show()"
   ]
  },
  {
   "cell_type": "markdown",
   "metadata": {},
   "source": [
    "Graphing important features for Random Forest Classifier\n",
    "\n",
    "This method deals with graphing the output of calling the random forest classifier's features importance attribute. The attribute details what features within the set of independent variables that were provided made an impact in the model's ability to classify the class.\n",
    "\n",
    "https://towardsdatascience.com/running-random-forests-inspect-the-feature-importances-with-this-code-2b00dd72b92e"
   ]
  },
  {
   "cell_type": "code",
   "execution_count": 20,
   "metadata": {
    "collapsed": true
   },
   "outputs": [],
   "source": [
    "def graphFeaturesImportant(rf_classifier, features):\n",
    "    trace = go.Scatter(\n",
    "        y = features, \n",
    "        x = dataset.columns.values, mode = \"markers\",\n",
    "        marker = dict(\n",
    "            sizemode = \"diameter\", sizeref=1, size=13, \n",
    "            color=features, colorscale=\"Portland\",\n",
    "            showscale=True\n",
    "        ),\n",
    "        text = dataset.columns.values\n",
    "    )\n",
    "    data = [trace]\n",
    "\n",
    "    layout = go.Layout(\n",
    "        autosize = True,\n",
    "        title = \"Random Forest Feature Importance\",\n",
    "        hovermode = \"closest\",\n",
    "        xaxis = dict(\n",
    "            ticklen=5, showgrid=True, zeroline=True, showline=True\n",
    "        ),\n",
    "        yaxis = dict(\n",
    "            title=\"Feature Importance\", showgrid=True, zeroline=True,\n",
    "            ticklen=5, gridwidth=2\n",
    "        ),\n",
    "        showlegend=False\n",
    "    )\n",
    "    \n",
    "    fig = go.Figure(data=data, layout=layout)\n",
    "    py.iplot(fig)"
   ]
  },
  {
   "cell_type": "markdown",
   "metadata": {},
   "source": [
    "Defining the Neural Network Model"
   ]
  },
  {
   "cell_type": "code",
   "execution_count": 21,
   "metadata": {
    "collapsed": true
   },
   "outputs": [],
   "source": [
    "# developing the Multi Layer Perceptron Neural Network\n",
    "def creatingNeuralNetworkPredictor(X_train, y_train, X_test, y_test, preprocess):\n",
    "    print(\"\\nNeural Network Classifier Section\")\n",
    "    print(\"---------------------------------\")\n",
    "    \n",
    "    # initialize the Multi Layer Perceptron Neural Network \n",
    "    mlp_classifier = MLPClassifier(solver=\"adam\", alpha=1e-5, max_iter=500,\n",
    "                               hidden_layer_sizes=(13, 13, 13))\n",
    "    \n",
    "    # hook up the preprocess step with the classifier params and create the pipeline\n",
    "    model = make_pipeline(preprocess, mlp_classifier)\n",
    "    \n",
    "    # fitting the Multi Layer Perceptron to the training set\n",
    "    model.fit(X_train, y_train)\n",
    "    \n",
    "    print(\"Training set Score: \", model.score(X_train, y_train))\n",
    "    print(\"Testing set Score: \", model.score(X_test, y_test))    \n",
    "    \n",
    "    return model"
   ]
  },
  {
   "cell_type": "markdown",
   "metadata": {},
   "source": [
    "Defining the Random Forest Classifier\n",
    "\n",
    "Creating a random forest classifier model along with training and testing it. A random forest classifier leverages a number of decision trees and aggregates their prediction values to find the best value given multiple iterations of sub-sampling the training data. \n",
    "\n",
    "It uses averaging to improve the prediction accuracy and to control over-fitting. Several parameters were utilized to configure the random forest classifier:\n",
    "\n",
    "- n_estimators: Number of trees in the forest.\n",
    "- n_jobs: The number of jobs to run in parallel for both fit and predict.\n",
    "\n",
    "https://towardsdatascience.com/understanding-random-forest-58381e0602d2"
   ]
  },
  {
   "cell_type": "code",
   "execution_count": 22,
   "metadata": {
    "collapsed": true
   },
   "outputs": [],
   "source": [
    "# developing the Random Forest Classifier\n",
    "def creatingRandomForestPredictor(X_train, y_train, X_test, y_test, preprocess):\n",
    "    print(\"\\nRandom Forest Classifier Section\")\n",
    "    print(\"---------------------------------\")\n",
    "    \n",
    "    # initialize the Multi Layer Perceptron Neural Network \n",
    "    random_forest_classifier = RandomForestClassifier(**{'n_jobs': -1,\n",
    "        'n_estimators': 800\n",
    "    })\n",
    "    \n",
    "    # hook up the preprocess step with the classifier params and create the pipeline\n",
    "    model = make_pipeline(preprocess, random_forest_classifier)\n",
    "    \n",
    "    # fitting Random Forest to the training set\n",
    "    model.fit(X_train, y_train)\n",
    "    \n",
    "    print(\"Training set Score: \", model.score(X_train, y_train))\n",
    "    print(\"Testing set Score: \", model.score(X_test, y_test))    \n",
    "    \n",
    "    return model"
   ]
  },
  {
   "cell_type": "markdown",
   "metadata": {},
   "source": [
    "Importing the fictionally generated data that was retrieved from Kaggle.\n",
    "\n",
    "https://www.kaggle.com/pavansubhasht/ibm-hr-analytics-attrition-dataset"
   ]
  },
  {
   "cell_type": "code",
   "execution_count": 23,
   "metadata": {},
   "outputs": [
    {
     "data": {
      "text/html": [
       "<div>\n",
       "<style>\n",
       "    .dataframe thead tr:only-child th {\n",
       "        text-align: right;\n",
       "    }\n",
       "\n",
       "    .dataframe thead th {\n",
       "        text-align: left;\n",
       "    }\n",
       "\n",
       "    .dataframe tbody tr th {\n",
       "        vertical-align: top;\n",
       "    }\n",
       "</style>\n",
       "<table border=\"1\" class=\"dataframe\">\n",
       "  <thead>\n",
       "    <tr style=\"text-align: right;\">\n",
       "      <th></th>\n",
       "      <th>Age</th>\n",
       "      <th>Attrition</th>\n",
       "      <th>BusinessTravel</th>\n",
       "      <th>DailyRate</th>\n",
       "      <th>Department</th>\n",
       "      <th>DistanceFromHome</th>\n",
       "      <th>Education</th>\n",
       "      <th>EducationField</th>\n",
       "      <th>EmployeeCount</th>\n",
       "      <th>EmployeeNumber</th>\n",
       "      <th>...</th>\n",
       "      <th>PerformanceRating</th>\n",
       "      <th>RelationshipSatisfaction</th>\n",
       "      <th>StandardHours</th>\n",
       "      <th>StockOptionLevel</th>\n",
       "      <th>TotalWorkingYears</th>\n",
       "      <th>TrainingTimesLastYear</th>\n",
       "      <th>WorkLifeBalance</th>\n",
       "      <th>YearsAtCompany</th>\n",
       "      <th>YearsInCurrentRole</th>\n",
       "      <th>YearsSinceLastPromotion</th>\n",
       "    </tr>\n",
       "  </thead>\n",
       "  <tbody>\n",
       "    <tr>\n",
       "      <th>0</th>\n",
       "      <td>41</td>\n",
       "      <td>Yes</td>\n",
       "      <td>Travel_Rarely</td>\n",
       "      <td>1102</td>\n",
       "      <td>Sales</td>\n",
       "      <td>1</td>\n",
       "      <td>2</td>\n",
       "      <td>Life Sciences</td>\n",
       "      <td>1</td>\n",
       "      <td>1</td>\n",
       "      <td>...</td>\n",
       "      <td>3</td>\n",
       "      <td>1</td>\n",
       "      <td>80</td>\n",
       "      <td>0</td>\n",
       "      <td>8</td>\n",
       "      <td>0</td>\n",
       "      <td>1</td>\n",
       "      <td>6</td>\n",
       "      <td>4</td>\n",
       "      <td>0</td>\n",
       "    </tr>\n",
       "    <tr>\n",
       "      <th>1</th>\n",
       "      <td>49</td>\n",
       "      <td>No</td>\n",
       "      <td>Travel_Frequently</td>\n",
       "      <td>279</td>\n",
       "      <td>Research &amp; Development</td>\n",
       "      <td>8</td>\n",
       "      <td>1</td>\n",
       "      <td>Life Sciences</td>\n",
       "      <td>1</td>\n",
       "      <td>2</td>\n",
       "      <td>...</td>\n",
       "      <td>4</td>\n",
       "      <td>4</td>\n",
       "      <td>80</td>\n",
       "      <td>1</td>\n",
       "      <td>10</td>\n",
       "      <td>3</td>\n",
       "      <td>3</td>\n",
       "      <td>10</td>\n",
       "      <td>7</td>\n",
       "      <td>1</td>\n",
       "    </tr>\n",
       "    <tr>\n",
       "      <th>2</th>\n",
       "      <td>37</td>\n",
       "      <td>Yes</td>\n",
       "      <td>Travel_Rarely</td>\n",
       "      <td>1373</td>\n",
       "      <td>Research &amp; Development</td>\n",
       "      <td>2</td>\n",
       "      <td>2</td>\n",
       "      <td>Other</td>\n",
       "      <td>1</td>\n",
       "      <td>4</td>\n",
       "      <td>...</td>\n",
       "      <td>3</td>\n",
       "      <td>2</td>\n",
       "      <td>80</td>\n",
       "      <td>0</td>\n",
       "      <td>7</td>\n",
       "      <td>3</td>\n",
       "      <td>3</td>\n",
       "      <td>0</td>\n",
       "      <td>0</td>\n",
       "      <td>0</td>\n",
       "    </tr>\n",
       "    <tr>\n",
       "      <th>3</th>\n",
       "      <td>33</td>\n",
       "      <td>No</td>\n",
       "      <td>Travel_Frequently</td>\n",
       "      <td>1392</td>\n",
       "      <td>Research &amp; Development</td>\n",
       "      <td>3</td>\n",
       "      <td>4</td>\n",
       "      <td>Life Sciences</td>\n",
       "      <td>1</td>\n",
       "      <td>5</td>\n",
       "      <td>...</td>\n",
       "      <td>3</td>\n",
       "      <td>3</td>\n",
       "      <td>80</td>\n",
       "      <td>0</td>\n",
       "      <td>8</td>\n",
       "      <td>3</td>\n",
       "      <td>3</td>\n",
       "      <td>8</td>\n",
       "      <td>7</td>\n",
       "      <td>3</td>\n",
       "    </tr>\n",
       "    <tr>\n",
       "      <th>4</th>\n",
       "      <td>27</td>\n",
       "      <td>No</td>\n",
       "      <td>Travel_Rarely</td>\n",
       "      <td>591</td>\n",
       "      <td>Research &amp; Development</td>\n",
       "      <td>2</td>\n",
       "      <td>1</td>\n",
       "      <td>Medical</td>\n",
       "      <td>1</td>\n",
       "      <td>7</td>\n",
       "      <td>...</td>\n",
       "      <td>3</td>\n",
       "      <td>4</td>\n",
       "      <td>80</td>\n",
       "      <td>1</td>\n",
       "      <td>6</td>\n",
       "      <td>3</td>\n",
       "      <td>3</td>\n",
       "      <td>2</td>\n",
       "      <td>2</td>\n",
       "      <td>2</td>\n",
       "    </tr>\n",
       "  </tbody>\n",
       "</table>\n",
       "<p>5 rows × 34 columns</p>\n",
       "</div>"
      ],
      "text/plain": [
       "   Age Attrition     BusinessTravel  DailyRate              Department  \\\n",
       "0   41       Yes      Travel_Rarely       1102                   Sales   \n",
       "1   49        No  Travel_Frequently        279  Research & Development   \n",
       "2   37       Yes      Travel_Rarely       1373  Research & Development   \n",
       "3   33        No  Travel_Frequently       1392  Research & Development   \n",
       "4   27        No      Travel_Rarely        591  Research & Development   \n",
       "\n",
       "   DistanceFromHome  Education EducationField  EmployeeCount  EmployeeNumber  \\\n",
       "0                 1          2  Life Sciences              1               1   \n",
       "1                 8          1  Life Sciences              1               2   \n",
       "2                 2          2          Other              1               4   \n",
       "3                 3          4  Life Sciences              1               5   \n",
       "4                 2          1        Medical              1               7   \n",
       "\n",
       "            ...             PerformanceRating RelationshipSatisfaction  \\\n",
       "0           ...                             3                        1   \n",
       "1           ...                             4                        4   \n",
       "2           ...                             3                        2   \n",
       "3           ...                             3                        3   \n",
       "4           ...                             3                        4   \n",
       "\n",
       "   StandardHours  StockOptionLevel  TotalWorkingYears TrainingTimesLastYear  \\\n",
       "0             80                 0                  8                     0   \n",
       "1             80                 1                 10                     3   \n",
       "2             80                 0                  7                     3   \n",
       "3             80                 0                  8                     3   \n",
       "4             80                 1                  6                     3   \n",
       "\n",
       "   WorkLifeBalance YearsAtCompany  YearsInCurrentRole  YearsSinceLastPromotion  \n",
       "0                1              6                   4                        0  \n",
       "1                3             10                   7                        1  \n",
       "2                3              0                   0                        0  \n",
       "3                3              8                   7                        3  \n",
       "4                3              2                   2                        2  \n",
       "\n",
       "[5 rows x 34 columns]"
      ]
     },
     "execution_count": 23,
     "metadata": {},
     "output_type": "execute_result"
    }
   ],
   "source": [
    "# importing the data\n",
    "dataset = pd.read_csv(\"./data/employee_attrition.csv\")\n",
    "dataset = dataset.drop([\"YearsWithCurrManager\"], axis=1)\n",
    "dataset.head()"
   ]
  },
  {
   "cell_type": "markdown",
   "metadata": {},
   "source": [
    "Setting up preprocess steps using the sklearn feature of Pipelines. Main tasks include the following: \n",
    "\n",
    "- Separating the independent variables from the dependent variable of Attrition.  \n",
    "- Separating numerical columns from columns that have string values. \n",
    "- Used OneHotEncoder method and library to encode string values of a category into numeric array like integers that can be used to represent the categorical values in a discrete manner.\n",
    "- Used SimpleImputer to complete missing or null values within a column. \n",
    "- Used StandardScaler to standardize the features by removing mean and scaling to unit variance. Often times when features don't look more like each other, it can throw off the estimators. \n",
    "\n",
    "https://scikit-learn.org/stable/modules/generated/sklearn.preprocessing.OneHotEncoder.html\n",
    "https://scikit-learn.org/stable/modules/generated/sklearn.impute.SimpleImputer.html"
   ]
  },
  {
   "cell_type": "code",
   "execution_count": 24,
   "metadata": {},
   "outputs": [
    {
     "name": "stderr",
     "output_type": "stream",
     "text": [
      "/anaconda/lib/python3.6/site-packages/sklearn/compose/_column_transformer.py:751: DeprecationWarning:\n",
      "\n",
      "`make_column_transformer` now expects (transformer, columns) as input tuples instead of (columns, transformer). This has been introduced in v0.20.1. `make_column_transformer` will stop accepting the deprecated (columns, transformer) order in v0.22.\n",
      "\n"
     ]
    }
   ],
   "source": [
    "# using ColumnTransformer only approach\n",
    "transformed_data = dataset.loc[:, dataset.columns != \"Attrition\"]\n",
    "X = transformed_data.values\n",
    "y = dataset.Attrition.values\n",
    "\n",
    "numerical_features = transformed_data.dtypes == \"int64\"\n",
    "categorical_features = ~numerical_features\n",
    "X_train, X_test, y_train, y_test = train_test_split(X, y, test_size = 0.3)\n",
    "\n",
    "preprocess = make_column_transformer(\n",
    "    (categorical_features, OneHotEncoder()),\n",
    "    (numerical_features, make_pipeline(SimpleImputer(), StandardScaler()))\n",
    ")"
   ]
  },
  {
   "cell_type": "markdown",
   "metadata": {},
   "source": [
    "Provided initial analysis of the data including column names, any null values within the data, and total responses per Attrition values."
   ]
  },
  {
   "cell_type": "code",
   "execution_count": 25,
   "metadata": {},
   "outputs": [
    {
     "name": "stdout",
     "output_type": "stream",
     "text": [
      "Summary Info About the Dataset\n",
      "Does category contain null values?\n",
      "Age                         False\n",
      "Attrition                   False\n",
      "BusinessTravel              False\n",
      "DailyRate                   False\n",
      "Department                  False\n",
      "DistanceFromHome            False\n",
      "Education                   False\n",
      "EducationField              False\n",
      "EmployeeCount               False\n",
      "EmployeeNumber              False\n",
      "EnvironmentSatisfaction     False\n",
      "Gender                      False\n",
      "HourlyRate                  False\n",
      "JobInvolvement              False\n",
      "JobLevel                    False\n",
      "JobRole                     False\n",
      "JobSatisfaction             False\n",
      "MaritalStatus               False\n",
      "MonthlyIncome               False\n",
      "MonthlyRate                 False\n",
      "NumCompaniesWorked          False\n",
      "Over18                      False\n",
      "OverTime                    False\n",
      "PercentSalaryHike           False\n",
      "PerformanceRating           False\n",
      "RelationshipSatisfaction    False\n",
      "StandardHours               False\n",
      "StockOptionLevel            False\n",
      "TotalWorkingYears           False\n",
      "TrainingTimesLastYear       False\n",
      "WorkLifeBalance             False\n",
      "YearsAtCompany              False\n",
      "YearsInCurrentRole          False\n",
      "YearsSinceLastPromotion     False\n",
      "dtype: bool \n",
      "\n",
      "Said Yes to Attrition:  237\n",
      "Said No to Attrition:   1233\n",
      "Total responses:        1470\n"
     ]
    }
   ],
   "source": [
    "# outputting data summary\n",
    "print(\"Summary Info About the Dataset\")\n",
    "print(\"Does category contain null values?\")\n",
    "print(dataset.isnull().any(), \"\\n\")\n",
    "print(\"Said Yes to Attrition: \", y[(y == \"Yes\")].size)\n",
    "print(\"Said No to Attrition:  \", y[(y == \"No\")].size)\n",
    "print(\"Total responses:       \", y.size)"
   ]
  },
  {
   "cell_type": "markdown",
   "metadata": {},
   "source": [
    "Training and Testing the Neural Network Model"
   ]
  },
  {
   "cell_type": "code",
   "execution_count": 26,
   "metadata": {},
   "outputs": [
    {
     "name": "stdout",
     "output_type": "stream",
     "text": [
      "\n",
      "Neural Network Classifier Section\n",
      "---------------------------------\n",
      "Training set Score:  1.0\n",
      "Testing set Score:  0.8253968253968254\n"
     ]
    }
   ],
   "source": [
    "nn_model = creatingNeuralNetworkPredictor(X_train, y_train, X_test, y_test, preprocess)"
   ]
  },
  {
   "cell_type": "markdown",
   "metadata": {},
   "source": [
    "Analyzing the Model - Accuracy, Classification Report, ROC Curve, Confusion Matrix, and Features Importance\n",
    "\n",
    "Some notable measurements include the following:\n",
    "- Accuracy score of the prediction represented in a percentage value. \n",
    "- Classification Report \n",
    "    - Metrics\n",
    "        - Precision: Ratio that dictates the ability of the classifier not to label as positive if a sample is negative. \n",
    "        - Recall: Ratio that dictates the ability of the classifier to find all positive samples.\n",
    "        - F1-Score or F-beta score is the weighted harmonic of the precision and recall.\n",
    "        - Support is the number of occurrences of each class. \n",
    "    - Labels - other than the values of each class in the dependent variable\n",
    "        - Macro Average: Calculate metrics for each label, and find their unweighted mean. This does not take label imbalance into account.\n",
    "        - Weighted Average: Calculate metrics for each label, and find their average weighted by support (the number of true instances for each label). This alters ‘macro’ to account for label imbalance; it can result in an F-score that is not between precision and recall.\n",
    "        - Zero One Loss: Measurement that measures the entire set of labels to make sure it is correctly predicted, otherwise the loss for the sample will be one. The best performance is therefore a 0.\n",
    "        - Log Loss: Calculates for a list of actual of valid values, how much of a probability in the accuracy of the prediction was for each of the labels.   \n",
    "- ROC Curve\n",
    "    - As discussed before the ROC curve or the AUC ROC Curve (Area under the Curve Receiver Operating Characteristics) evaluates the classification models' performance. \n",
    "    - It explains how accurately the model is able to predict the various classification classes.\n",
    "    - The macro average is used since there are only two classes for classification (Yes or No). It will treat each metric independently and take an average resulting in the classes having equal weight.\n",
    "- Confusion Matrix\n",
    "    - Chart and calculations that measures the number of true positives, true negatives, false positives, and false negatives between the prediction and test values. \n",
    "- Feature Importance\n",
    "    - As mentioned above, this is a feature provided by the Random Forest Classifier, that grades the impact of each of the independent variables on their impact on the dependent variable. \n",
    "        \n",
    "https://towardsdatascience.com/understanding-confusion-matrix-a9ad42dcfd62        \n",
    "https://markhneedham.com/blog/2016/09/14/scikit-learn-first-steps-with-log_loss/        \n",
    "https://scikit-learn.org/stable/modules/generated/sklearn.metrics.precision_recall_fscore_support.html\n",
    "https://scikit-learn.org/stable/modules/generated/sklearn.metrics.zero_one_loss.html"
   ]
  },
  {
   "cell_type": "markdown",
   "metadata": {},
   "source": [
    "Analyzing the Neural Network Model - Accuracy"
   ]
  },
  {
   "cell_type": "code",
   "execution_count": 28,
   "metadata": {},
   "outputs": [
    {
     "name": "stdout",
     "output_type": "stream",
     "text": [
      "Accuracy Score of Prediction :  82.53968253968253\n",
      "\n",
      "Classification Report\n",
      "              precision    recall  f1-score   support\n",
      "\n",
      "          No       0.91      0.88      0.90       376\n",
      "         Yes       0.42      0.52      0.47        65\n",
      "\n",
      "    accuracy                           0.83       441\n",
      "   macro avg       0.67      0.70      0.68       441\n",
      "weighted avg       0.84      0.83      0.83       441\n",
      "\n",
      "Zero One Loss:  0.17460317460317465\n",
      "Log Loss:       0.14839507578403988\n"
     ]
    }
   ],
   "source": [
    "# Predicting the Test set results\n",
    "nn_y_pred = nn_model.predict(X_test)\n",
    "\n",
    "# output results\n",
    "nn_y_pred_prob = model.predict_proba(X_test)[:, 1]\n",
    "\n",
    "print(\"Accuracy Score of Prediction : \", metrics.accuracy_score(y_test, nn_y_pred) * 100)\n",
    "print(\"\\nClassification Report\")\n",
    "print(metrics.classification_report(y_test, nn_y_pred))\n",
    "print(\"Zero One Loss: \", metrics.zero_one_loss(y_test, nn_y_pred))\n",
    "print(\"Log Loss:      \", metrics.log_loss(y_test, nn_y_pred_prob))"
   ]
  },
  {
   "cell_type": "markdown",
   "metadata": {},
   "source": [
    "Analyzing the Neural Network Model - ROC Curve"
   ]
  },
  {
   "cell_type": "code",
   "execution_count": 29,
   "metadata": {},
   "outputs": [
    {
     "data": {
      "image/png": "[encoded data removed]",
      "text/plain": [
       "<Figure size 576x396 with 1 Axes>"
      ]
     },
     "metadata": {},
     "output_type": "display_data"
    },
    {
     "name": "stdout",
     "output_type": "stream",
     "text": [
      "ROC AUC Score:  0.9803191489361703\n"
     ]
    }
   ],
   "source": [
    "graphROCCurve(y_test, nn_y_pred_prob)\n",
    "print(\"ROC AUC Score: \", metrics.roc_auc_score(y_test, nn_y_pred_prob, average=\"macro\"))"
   ]
  },
  {
   "cell_type": "markdown",
   "metadata": {},
   "source": [
    "Analyzing the Neural Network Model - Confusion Matrix"
   ]
  },
  {
   "cell_type": "code",
   "execution_count": 30,
   "metadata": {},
   "outputs": [
    {
     "name": "stdout",
     "output_type": "stream",
     "text": [
      "\n",
      "Confusion Matrix\n",
      "Predicted   No  Yes  All\n",
      "True                    \n",
      "No         330   46  376\n",
      "Yes         31   34   65\n",
      "All        361   80  441\n"
     ]
    },
    {
     "data": {
      "image/png": "[encoded data removed]",
      "text/plain": [
       "<Figure size 576x396 with 2 Axes>"
      ]
     },
     "metadata": {},
     "output_type": "display_data"
    }
   ],
   "source": [
    "nn_cm = metrics.confusion_matrix(y_test, nn_y_pred)\n",
    "sns.heatmap(nn_cm)\n",
    "print(\"\\nConfusion Matrix\")\n",
    "print(pd.crosstab(y_test.ravel(), nn_y_pred.ravel(), rownames=['True'], colnames=['Predicted'], margins=True))\n",
    "plt.show()"
   ]
  },
  {
   "cell_type": "markdown",
   "metadata": {},
   "source": [
    "Training and Testing the Model"
   ]
  },
  {
   "cell_type": "code",
   "execution_count": 31,
   "metadata": {},
   "outputs": [
    {
     "name": "stdout",
     "output_type": "stream",
     "text": [
      "\n",
      "Random Forest Classifier Section\n",
      "---------------------------------\n",
      "Training set Score:  1.0\n",
      "Testing set Score:  0.8798185941043084\n"
     ]
    }
   ],
   "source": [
    "rf_model = creatingRandomForestPredictor(X_train, y_train, X_test, y_test, preprocess)"
   ]
  },
  {
   "cell_type": "markdown",
   "metadata": {
    "collapsed": true
   },
   "source": [
    "Analyzing the Random Forest Model - Accuracy"
   ]
  },
  {
   "cell_type": "code",
   "execution_count": 32,
   "metadata": {},
   "outputs": [
    {
     "name": "stdout",
     "output_type": "stream",
     "text": [
      "Accuracy Score of Prediction :  87.98185941043084\n",
      "\n",
      "Classification Report\n",
      "              precision    recall  f1-score   support\n",
      "\n",
      "          No       0.88      0.99      0.93       376\n",
      "         Yes       0.88      0.22      0.35        65\n",
      "\n",
      "    accuracy                           0.88       441\n",
      "   macro avg       0.88      0.61      0.64       441\n",
      "weighted avg       0.88      0.88      0.85       441\n",
      "\n",
      "Zero One Loss:  0.1201814058956916\n",
      "Log Loss:       0.33382245677019534\n"
     ]
    }
   ],
   "source": [
    "\n",
    "# Predicting the Test set results\n",
    "rf_y_pred = rf_model.predict(X_test)\n",
    "\n",
    "# output results\n",
    "rf_y_pred_prob = rf_model.predict_proba(X_test)[:, 1]\n",
    "print(\"Accuracy Score of Prediction : \", metrics.accuracy_score(y_test, rf_y_pred) * 100)\n",
    "print(\"\\nClassification Report\")\n",
    "print(metrics.classification_report(y_test, rf_y_pred))\n",
    "print(\"Zero One Loss: \", metrics.zero_one_loss(y_test, rf_y_pred))\n",
    "print(\"Log Loss:      \", metrics.log_loss(y_test, rf_y_pred_prob))"
   ]
  },
  {
   "cell_type": "markdown",
   "metadata": {},
   "source": [
    "Analyzing the Random Forest Model - ROC Curve"
   ]
  },
  {
   "cell_type": "code",
   "execution_count": 33,
   "metadata": {},
   "outputs": [
    {
     "data": {
      "image/png": "[encoded data removed]",
      "text/plain": [
       "<Figure size 576x396 with 1 Axes>"
      ]
     },
     "metadata": {},
     "output_type": "display_data"
    },
    {
     "name": "stdout",
     "output_type": "stream",
     "text": [
      "ROC AUC Score:  0.8005932896890343\n"
     ]
    }
   ],
   "source": [
    "graphROCCurve(y_test, rf_y_pred_prob)\n",
    "print(\"ROC AUC Score: \", metrics.roc_auc_score(y_test, rf_y_pred_prob, average=\"macro\"))"
   ]
  },
  {
   "cell_type": "markdown",
   "metadata": {},
   "source": [
    "Analyzing the Random Forest Model - Confusion Matrix"
   ]
  },
  {
   "cell_type": "code",
   "execution_count": 34,
   "metadata": {},
   "outputs": [
    {
     "name": "stdout",
     "output_type": "stream",
     "text": [
      "\n",
      "Confusion Matrix\n",
      "Predicted   No  Yes  All\n",
      "True                    \n",
      "No         374    2  376\n",
      "Yes         51   14   65\n",
      "All        425   16  441\n"
     ]
    },
    {
     "data": {
      "application/vnd.plotly.v1+json": {
       "config": {
        "linkText": "Export to plot.ly",
        "plotlyServerURL": "https://plot.ly",
        "showLink": false
       },
       "data": [
        {
         "marker": {
          "color": [
           0.0041143652982979645,
           0.018626151205213774,
           0.008868666008601832,
           0.0020153739509394474,
           0.008469314982936384,
           0.008634360385496202,
           0.0020155408650449954,
           0.008016792445026065,
           0.006816052058088394,
           0.00820794089386132,
           0.0031335790939915668,
           0.00779955829633882,
           0.007835323730682261,
           0.008173505993933142,
           0.003148695360732385,
           0.0028655969720009513,
           0.008629449255384579,
           0.001414853936483991,
           0.0033332575083833468,
           0.0007031625829004988,
           0.007461143872810275,
           0.008052080209977379,
           0.006575278028400881,
           0.005305876632183708,
           0.006920909045539919,
           0.013835094912799271,
           0,
           0.02793405478935517,
           0.029369925933235043,
           0.058481511267051735,
           0.048321885750083865,
           0.0428938882434389,
           0.01823779368112724,
           0,
           0.04346593710830024,
           0.030157733649120694,
           0.04435758381414809,
           0.022987624747526764,
           0.021621298450431068,
           0.02355140208471911,
           0.06572986194122916,
           0.043079026693836536,
           0.03433454170521764,
           0.031983290956050826,
           0.004759865873828016,
           0.02350901422722613,
           0,
           0.026979141714668853,
           0.046970578487262674,
           0.024233653883492003,
           0.02455094635979221,
           0.039564267298125406,
           0.02961307330045158,
           0.022340174514231603
          ],
          "colorscale": "Portland",
          "showscale": true,
          "size": 13,
          "sizemode": "diameter",
          "sizeref": 1
         },
         "mode": "markers",
         "text": [
          "Age",
          "Attrition",
          "BusinessTravel",
          "DailyRate",
          "Department",
          "DistanceFromHome",
          "Education",
          "EducationField",
          "EmployeeCount",
          "EmployeeNumber",
          "EnvironmentSatisfaction",
          "Gender",
          "HourlyRate",
          "JobInvolvement",
          "JobLevel",
          "JobRole",
          "JobSatisfaction",
          "MaritalStatus",
          "MonthlyIncome",
          "MonthlyRate",
          "NumCompaniesWorked",
          "Over18",
          "OverTime",
          "PercentSalaryHike",
          "PerformanceRating",
          "RelationshipSatisfaction",
          "StandardHours",
          "StockOptionLevel",
          "TotalWorkingYears",
          "TrainingTimesLastYear",
          "WorkLifeBalance",
          "YearsAtCompany",
          "YearsInCurrentRole",
          "YearsSinceLastPromotion"
         ],
         "type": "scatter",
         "uid": "eb0e914e-ba69-43de-bf09-d518e314cc18",
         "x": [
          "Age",
          "Attrition",
          "BusinessTravel",
          "DailyRate",
          "Department",
          "DistanceFromHome",
          "Education",
          "EducationField",
          "EmployeeCount",
          "EmployeeNumber",
          "EnvironmentSatisfaction",
          "Gender",
          "HourlyRate",
          "JobInvolvement",
          "JobLevel",
          "JobRole",
          "JobSatisfaction",
          "MaritalStatus",
          "MonthlyIncome",
          "MonthlyRate",
          "NumCompaniesWorked",
          "Over18",
          "OverTime",
          "PercentSalaryHike",
          "PerformanceRating",
          "RelationshipSatisfaction",
          "StandardHours",
          "StockOptionLevel",
          "TotalWorkingYears",
          "TrainingTimesLastYear",
          "WorkLifeBalance",
          "YearsAtCompany",
          "YearsInCurrentRole",
          "YearsSinceLastPromotion"
         ],
         "y": [
          0.0041143652982979645,
          0.018626151205213774,
          0.008868666008601832,
          0.0020153739509394474,
          0.008469314982936384,
          0.008634360385496202,
          0.0020155408650449954,
          0.008016792445026065,
          0.006816052058088394,
          0.00820794089386132,
          0.0031335790939915668,
          0.00779955829633882,
          0.007835323730682261,
          0.008173505993933142,
          0.003148695360732385,
          0.0028655969720009513,
          0.008629449255384579,
          0.001414853936483991,
          0.0033332575083833468,
          0.0007031625829004988,
          0.007461143872810275,
          0.008052080209977379,
          0.006575278028400881,
          0.005305876632183708,
          0.006920909045539919,
          0.013835094912799271,
          0,
          0.02793405478935517,
          0.029369925933235043,
          0.058481511267051735,
          0.048321885750083865,
          0.0428938882434389,
          0.01823779368112724,
          0,
          0.04346593710830024,
          0.030157733649120694,
          0.04435758381414809,
          0.022987624747526764,
          0.021621298450431068,
          0.02355140208471911,
          0.06572986194122916,
          0.043079026693836536,
          0.03433454170521764,
          0.031983290956050826,
          0.004759865873828016,
          0.02350901422722613,
          0,
          0.026979141714668853,
          0.046970578487262674,
          0.024233653883492003,
          0.02455094635979221,
          0.039564267298125406,
          0.02961307330045158,
          0.022340174514231603
         ]
        }
       ],
       "layout": {
        "autosize": true,
        "hovermode": "closest",
        "showlegend": false,
        "title": {
         "text": "Random Forest Feature Importance"
        },
        "xaxis": {
         "showgrid": true,
         "showline": true,
         "ticklen": 5,
         "zeroline": true
        },
        "yaxis": {
         "gridwidth": 2,
         "showgrid": true,
         "ticklen": 5,
         "title": {
          "text": "Feature Importance"
         },
         "zeroline": true
        }
       }
      },
      "text/html": [
       "<div>\n",
       "        \n",
       "        \n",
       "            <div id=\"fdaa1fed-016a-4d31-9a1f-c38250fcb88d\" class=\"plotly-graph-div\" style=\"height:525px; width:100%;\"></div>\n",
       "            <script type=\"text/javascript\">\n",
       "                require([\"plotly\"], function(Plotly) {\n",
       "                    window.PLOTLYENV=window.PLOTLYENV || {};\n",
       "                    window.PLOTLYENV.BASE_URL='https://plot.ly';\n",
       "                    \n",
       "                if (document.getElementById(\"fdaa1fed-016a-4d31-9a1f-c38250fcb88d\")) {\n",
       "                    Plotly.newPlot(\n",
       "                        'fdaa1fed-016a-4d31-9a1f-c38250fcb88d',\n",
       "                        [{\"marker\": {\"color\": [0.0041143652982979645, 0.018626151205213774, 0.008868666008601832, 0.0020153739509394474, 0.008469314982936384, 0.008634360385496202, 0.0020155408650449954, 0.008016792445026065, 0.006816052058088394, 0.00820794089386132, 0.0031335790939915668, 0.00779955829633882, 0.007835323730682261, 0.008173505993933142, 0.003148695360732385, 0.0028655969720009513, 0.008629449255384579, 0.001414853936483991, 0.0033332575083833468, 0.0007031625829004988, 0.007461143872810275, 0.008052080209977379, 0.006575278028400881, 0.005305876632183708, 0.006920909045539919, 0.013835094912799271, 0.0, 0.02793405478935517, 0.029369925933235043, 0.058481511267051735, 0.048321885750083865, 0.0428938882434389, 0.01823779368112724, 0.0, 0.04346593710830024, 0.030157733649120694, 0.04435758381414809, 0.022987624747526764, 0.021621298450431068, 0.02355140208471911, 0.06572986194122916, 0.043079026693836536, 0.03433454170521764, 0.031983290956050826, 0.004759865873828016, 0.02350901422722613, 0.0, 0.026979141714668853, 0.046970578487262674, 0.024233653883492003, 0.02455094635979221, 0.039564267298125406, 0.02961307330045158, 0.022340174514231603], \"colorscale\": \"Portland\", \"showscale\": true, \"size\": 13, \"sizemode\": \"diameter\", \"sizeref\": 1}, \"mode\": \"markers\", \"text\": [\"Age\", \"Attrition\", \"BusinessTravel\", \"DailyRate\", \"Department\", \"DistanceFromHome\", \"Education\", \"EducationField\", \"EmployeeCount\", \"EmployeeNumber\", \"EnvironmentSatisfaction\", \"Gender\", \"HourlyRate\", \"JobInvolvement\", \"JobLevel\", \"JobRole\", \"JobSatisfaction\", \"MaritalStatus\", \"MonthlyIncome\", \"MonthlyRate\", \"NumCompaniesWorked\", \"Over18\", \"OverTime\", \"PercentSalaryHike\", \"PerformanceRating\", \"RelationshipSatisfaction\", \"StandardHours\", \"StockOptionLevel\", \"TotalWorkingYears\", \"TrainingTimesLastYear\", \"WorkLifeBalance\", \"YearsAtCompany\", \"YearsInCurrentRole\", \"YearsSinceLastPromotion\"], \"type\": \"scatter\", \"uid\": \"eb0e914e-ba69-43de-bf09-d518e314cc18\", \"x\": [\"Age\", \"Attrition\", \"BusinessTravel\", \"DailyRate\", \"Department\", \"DistanceFromHome\", \"Education\", \"EducationField\", \"EmployeeCount\", \"EmployeeNumber\", \"EnvironmentSatisfaction\", \"Gender\", \"HourlyRate\", \"JobInvolvement\", \"JobLevel\", \"JobRole\", \"JobSatisfaction\", \"MaritalStatus\", \"MonthlyIncome\", \"MonthlyRate\", \"NumCompaniesWorked\", \"Over18\", \"OverTime\", \"PercentSalaryHike\", \"PerformanceRating\", \"RelationshipSatisfaction\", \"StandardHours\", \"StockOptionLevel\", \"TotalWorkingYears\", \"TrainingTimesLastYear\", \"WorkLifeBalance\", \"YearsAtCompany\", \"YearsInCurrentRole\", \"YearsSinceLastPromotion\"], \"y\": [0.0041143652982979645, 0.018626151205213774, 0.008868666008601832, 0.0020153739509394474, 0.008469314982936384, 0.008634360385496202, 0.0020155408650449954, 0.008016792445026065, 0.006816052058088394, 0.00820794089386132, 0.0031335790939915668, 0.00779955829633882, 0.007835323730682261, 0.008173505993933142, 0.003148695360732385, 0.0028655969720009513, 0.008629449255384579, 0.001414853936483991, 0.0033332575083833468, 0.0007031625829004988, 0.007461143872810275, 0.008052080209977379, 0.006575278028400881, 0.005305876632183708, 0.006920909045539919, 0.013835094912799271, 0.0, 0.02793405478935517, 0.029369925933235043, 0.058481511267051735, 0.048321885750083865, 0.0428938882434389, 0.01823779368112724, 0.0, 0.04346593710830024, 0.030157733649120694, 0.04435758381414809, 0.022987624747526764, 0.021621298450431068, 0.02355140208471911, 0.06572986194122916, 0.043079026693836536, 0.03433454170521764, 0.031983290956050826, 0.004759865873828016, 0.02350901422722613, 0.0, 0.026979141714668853, 0.046970578487262674, 0.024233653883492003, 0.02455094635979221, 0.039564267298125406, 0.02961307330045158, 0.022340174514231603]}],\n",
       "                        {\"autosize\": true, \"hovermode\": \"closest\", \"showlegend\": false, \"title\": {\"text\": \"Random Forest Feature Importance\"}, \"xaxis\": {\"showgrid\": true, \"showline\": true, \"ticklen\": 5, \"zeroline\": true}, \"yaxis\": {\"gridwidth\": 2, \"showgrid\": true, \"ticklen\": 5, \"title\": {\"text\": \"Feature Importance\"}, \"zeroline\": true}},\n",
       "                        {\"showLink\": false, \"linkText\": \"Export to plot.ly\", \"plotlyServerURL\": \"https://plot.ly\", \"responsive\": true}\n",
       "                    ).then(function(){\n",
       "                            \n",
       "var gd = document.getElementById('fdaa1fed-016a-4d31-9a1f-c38250fcb88d');\n",
       "var x = new MutationObserver(function (mutations, observer) {{\n",
       "        var display = window.getComputedStyle(gd).display;\n",
       "        if (!display || display === 'none') {{\n",
       "            console.log([gd, 'removed!']);\n",
       "            Plotly.purge(gd);\n",
       "            observer.disconnect();\n",
       "        }}\n",
       "}});\n",
       "\n",
       "// Listen for the removal of the full notebook cells\n",
       "var notebookContainer = gd.closest('#notebook-container');\n",
       "if (notebookContainer) {{\n",
       "    x.observe(notebookContainer, {childList: true});\n",
       "}}\n",
       "\n",
       "// Listen for the clearing of the current output cell\n",
       "var outputEl = gd.closest('.output');\n",
       "if (outputEl) {{\n",
       "    x.observe(outputEl, {childList: true});\n",
       "}}\n",
       "\n",
       "                        })\n",
       "                };\n",
       "                });\n",
       "            </script>\n",
       "        </div>"
      ]
     },
     "metadata": {},
     "output_type": "display_data"
    },
    {
     "data": {
      "image/png": "[encoded data removed]",
      "text/plain": [
       "<Figure size 576x396 with 2 Axes>"
      ]
     },
     "metadata": {},
     "output_type": "display_data"
    }
   ],
   "source": [
    "rf_cm = metrics.confusion_matrix(y_test, rf_y_pred)\n",
    "print(\"\\nConfusion Matrix\")\n",
    "print(pd.crosstab(y_test.ravel(), rf_y_pred.ravel(), rownames=['True'], colnames=['Predicted'], margins=True))\n",
    "sns.heatmap(rf_cm, center=True)\n",
    "graphFeaturesImportant(rf_model, rf_model.steps[1][1].feature_importances_)\n",
    "plt.show()"
   ]
  },
  {
   "cell_type": "code",
   "execution_count": null,
   "metadata": {
    "collapsed": true
   },
   "outputs": [],
   "source": []
  },
  {
   "cell_type": "code",
   "execution_count": null,
   "metadata": {
    "collapsed": true
   },
   "outputs": [],
   "source": []
  },
  {
   "cell_type": "code",
   "execution_count": null,
   "metadata": {
    "collapsed": true
   },
   "outputs": [],
   "source": []
  }
 ],
 "metadata": {
  "kernelspec": {
   "display_name": "Python 3",
   "language": "python",
   "name": "python3"
  },
  "language_info": {
   "codemirror_mode": {
    "name": "ipython",
    "version": 3
   },
   "file_extension": ".py",
   "mimetype": "text/x-python",
   "name": "python",
   "nbconvert_exporter": "python",
   "pygments_lexer": "ipython3",
   "version": "3.6.6"
  }
 },
 "nbformat": 4,
 "nbformat_minor": 2
}
